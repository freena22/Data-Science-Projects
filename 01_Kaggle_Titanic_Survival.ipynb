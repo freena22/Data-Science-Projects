{
 "cells": [
  {
   "cell_type": "markdown",
   "metadata": {},
   "source": [
    "# Project: Analyze Titanic Data Survival Rate\n"
   ]
  },
  {
   "cell_type": "markdown",
   "metadata": {},
   "source": [
    "## 1. Introduction\n",
    "\n",
    "For this project, I will conduct my data analysis on Titanic dataset for exploring the survival situation and finding out what sorts of people were likely to survive and what features of the passengers made people more likely to survive the tragedy. In specific, what kind of variables contribute to a higher survival rate? \n",
    "\n",
    "\n",
    "According to Kaggle Competition Website, the Titanic dataset includes demographics and passenger information from 891 of the 2224 passengers and crew on board the Titanic. More detailed descriptive summary of the dataset will be elaborating later. \n",
    "\n",
    "\n"
   ]
  },
  {
   "cell_type": "markdown",
   "metadata": {},
   "source": [
    "#### Import the Moduls and Read the Data"
   ]
  },
  {
   "cell_type": "code",
   "execution_count": 1,
   "metadata": {
    "collapsed": false
   },
   "outputs": [],
   "source": [
    "import pandas as pd\n",
    "import numpy as np\n",
    "import matplotlib.pyplot as plt\n",
    "import seaborn as sns\n",
    "%matplotlib inline\n"
   ]
  },
  {
   "cell_type": "code",
   "execution_count": 2,
   "metadata": {
    "collapsed": false
   },
   "outputs": [],
   "source": [
    "# read the file\n",
    "titanic = pd.read_csv('titanic-data.csv')"
   ]
  },
  {
   "cell_type": "markdown",
   "metadata": {},
   "source": [
    "## 2. Initial Exploration\n",
    "\n",
    "First, let's take a broad overview of the dataset, checking the types and the typical content in data\n"
   ]
  },
  {
   "cell_type": "code",
   "execution_count": 3,
   "metadata": {
    "collapsed": false
   },
   "outputs": [
    {
     "data": {
      "text/html": [
       "<div>\n",
       "<table border=\"1\" class=\"dataframe\">\n",
       "  <thead>\n",
       "    <tr style=\"text-align: right;\">\n",
       "      <th></th>\n",
       "      <th>PassengerId</th>\n",
       "      <th>Survived</th>\n",
       "      <th>Pclass</th>\n",
       "      <th>Name</th>\n",
       "      <th>Sex</th>\n",
       "      <th>Age</th>\n",
       "      <th>SibSp</th>\n",
       "      <th>Parch</th>\n",
       "      <th>Ticket</th>\n",
       "      <th>Fare</th>\n",
       "      <th>Cabin</th>\n",
       "      <th>Embarked</th>\n",
       "    </tr>\n",
       "  </thead>\n",
       "  <tbody>\n",
       "    <tr>\n",
       "      <th>0</th>\n",
       "      <td>1</td>\n",
       "      <td>0</td>\n",
       "      <td>3</td>\n",
       "      <td>Braund, Mr. Owen Harris</td>\n",
       "      <td>male</td>\n",
       "      <td>22.0</td>\n",
       "      <td>1</td>\n",
       "      <td>0</td>\n",
       "      <td>A/5 21171</td>\n",
       "      <td>7.2500</td>\n",
       "      <td>NaN</td>\n",
       "      <td>S</td>\n",
       "    </tr>\n",
       "    <tr>\n",
       "      <th>1</th>\n",
       "      <td>2</td>\n",
       "      <td>1</td>\n",
       "      <td>1</td>\n",
       "      <td>Cumings, Mrs. John Bradley (Florence Briggs Th...</td>\n",
       "      <td>female</td>\n",
       "      <td>38.0</td>\n",
       "      <td>1</td>\n",
       "      <td>0</td>\n",
       "      <td>PC 17599</td>\n",
       "      <td>71.2833</td>\n",
       "      <td>C85</td>\n",
       "      <td>C</td>\n",
       "    </tr>\n",
       "    <tr>\n",
       "      <th>2</th>\n",
       "      <td>3</td>\n",
       "      <td>1</td>\n",
       "      <td>3</td>\n",
       "      <td>Heikkinen, Miss. Laina</td>\n",
       "      <td>female</td>\n",
       "      <td>26.0</td>\n",
       "      <td>0</td>\n",
       "      <td>0</td>\n",
       "      <td>STON/O2. 3101282</td>\n",
       "      <td>7.9250</td>\n",
       "      <td>NaN</td>\n",
       "      <td>S</td>\n",
       "    </tr>\n",
       "    <tr>\n",
       "      <th>3</th>\n",
       "      <td>4</td>\n",
       "      <td>1</td>\n",
       "      <td>1</td>\n",
       "      <td>Futrelle, Mrs. Jacques Heath (Lily May Peel)</td>\n",
       "      <td>female</td>\n",
       "      <td>35.0</td>\n",
       "      <td>1</td>\n",
       "      <td>0</td>\n",
       "      <td>113803</td>\n",
       "      <td>53.1000</td>\n",
       "      <td>C123</td>\n",
       "      <td>S</td>\n",
       "    </tr>\n",
       "    <tr>\n",
       "      <th>4</th>\n",
       "      <td>5</td>\n",
       "      <td>0</td>\n",
       "      <td>3</td>\n",
       "      <td>Allen, Mr. William Henry</td>\n",
       "      <td>male</td>\n",
       "      <td>35.0</td>\n",
       "      <td>0</td>\n",
       "      <td>0</td>\n",
       "      <td>373450</td>\n",
       "      <td>8.0500</td>\n",
       "      <td>NaN</td>\n",
       "      <td>S</td>\n",
       "    </tr>\n",
       "    <tr>\n",
       "      <th>5</th>\n",
       "      <td>6</td>\n",
       "      <td>0</td>\n",
       "      <td>3</td>\n",
       "      <td>Moran, Mr. James</td>\n",
       "      <td>male</td>\n",
       "      <td>NaN</td>\n",
       "      <td>0</td>\n",
       "      <td>0</td>\n",
       "      <td>330877</td>\n",
       "      <td>8.4583</td>\n",
       "      <td>NaN</td>\n",
       "      <td>Q</td>\n",
       "    </tr>\n",
       "    <tr>\n",
       "      <th>6</th>\n",
       "      <td>7</td>\n",
       "      <td>0</td>\n",
       "      <td>1</td>\n",
       "      <td>McCarthy, Mr. Timothy J</td>\n",
       "      <td>male</td>\n",
       "      <td>54.0</td>\n",
       "      <td>0</td>\n",
       "      <td>0</td>\n",
       "      <td>17463</td>\n",
       "      <td>51.8625</td>\n",
       "      <td>E46</td>\n",
       "      <td>S</td>\n",
       "    </tr>\n",
       "    <tr>\n",
       "      <th>7</th>\n",
       "      <td>8</td>\n",
       "      <td>0</td>\n",
       "      <td>3</td>\n",
       "      <td>Palsson, Master. Gosta Leonard</td>\n",
       "      <td>male</td>\n",
       "      <td>2.0</td>\n",
       "      <td>3</td>\n",
       "      <td>1</td>\n",
       "      <td>349909</td>\n",
       "      <td>21.0750</td>\n",
       "      <td>NaN</td>\n",
       "      <td>S</td>\n",
       "    </tr>\n",
       "    <tr>\n",
       "      <th>8</th>\n",
       "      <td>9</td>\n",
       "      <td>1</td>\n",
       "      <td>3</td>\n",
       "      <td>Johnson, Mrs. Oscar W (Elisabeth Vilhelmina Berg)</td>\n",
       "      <td>female</td>\n",
       "      <td>27.0</td>\n",
       "      <td>0</td>\n",
       "      <td>2</td>\n",
       "      <td>347742</td>\n",
       "      <td>11.1333</td>\n",
       "      <td>NaN</td>\n",
       "      <td>S</td>\n",
       "    </tr>\n",
       "    <tr>\n",
       "      <th>9</th>\n",
       "      <td>10</td>\n",
       "      <td>1</td>\n",
       "      <td>2</td>\n",
       "      <td>Nasser, Mrs. Nicholas (Adele Achem)</td>\n",
       "      <td>female</td>\n",
       "      <td>14.0</td>\n",
       "      <td>1</td>\n",
       "      <td>0</td>\n",
       "      <td>237736</td>\n",
       "      <td>30.0708</td>\n",
       "      <td>NaN</td>\n",
       "      <td>C</td>\n",
       "    </tr>\n",
       "  </tbody>\n",
       "</table>\n",
       "</div>"
      ],
      "text/plain": [
       "   PassengerId  Survived  Pclass  \\\n",
       "0            1         0       3   \n",
       "1            2         1       1   \n",
       "2            3         1       3   \n",
       "3            4         1       1   \n",
       "4            5         0       3   \n",
       "5            6         0       3   \n",
       "6            7         0       1   \n",
       "7            8         0       3   \n",
       "8            9         1       3   \n",
       "9           10         1       2   \n",
       "\n",
       "                                                Name     Sex   Age  SibSp  \\\n",
       "0                            Braund, Mr. Owen Harris    male  22.0      1   \n",
       "1  Cumings, Mrs. John Bradley (Florence Briggs Th...  female  38.0      1   \n",
       "2                             Heikkinen, Miss. Laina  female  26.0      0   \n",
       "3       Futrelle, Mrs. Jacques Heath (Lily May Peel)  female  35.0      1   \n",
       "4                           Allen, Mr. William Henry    male  35.0      0   \n",
       "5                                   Moran, Mr. James    male   NaN      0   \n",
       "6                            McCarthy, Mr. Timothy J    male  54.0      0   \n",
       "7                     Palsson, Master. Gosta Leonard    male   2.0      3   \n",
       "8  Johnson, Mrs. Oscar W (Elisabeth Vilhelmina Berg)  female  27.0      0   \n",
       "9                Nasser, Mrs. Nicholas (Adele Achem)  female  14.0      1   \n",
       "\n",
       "   Parch            Ticket     Fare Cabin Embarked  \n",
       "0      0         A/5 21171   7.2500   NaN        S  \n",
       "1      0          PC 17599  71.2833   C85        C  \n",
       "2      0  STON/O2. 3101282   7.9250   NaN        S  \n",
       "3      0            113803  53.1000  C123        S  \n",
       "4      0            373450   8.0500   NaN        S  \n",
       "5      0            330877   8.4583   NaN        Q  \n",
       "6      0             17463  51.8625   E46        S  \n",
       "7      1            349909  21.0750   NaN        S  \n",
       "8      2            347742  11.1333   NaN        S  \n",
       "9      0            237736  30.0708   NaN        C  "
      ]
     },
     "execution_count": 3,
     "metadata": {},
     "output_type": "execute_result"
    }
   ],
   "source": [
    "titanic.head(10)"
   ]
  },
  {
   "cell_type": "code",
   "execution_count": 4,
   "metadata": {
    "collapsed": false
   },
   "outputs": [
    {
     "data": {
      "text/plain": [
       "PassengerId      int64\n",
       "Survived         int64\n",
       "Pclass           int64\n",
       "Name            object\n",
       "Sex             object\n",
       "Age            float64\n",
       "SibSp            int64\n",
       "Parch            int64\n",
       "Ticket          object\n",
       "Fare           float64\n",
       "Cabin           object\n",
       "Embarked        object\n",
       "dtype: object"
      ]
     },
     "execution_count": 4,
     "metadata": {},
     "output_type": "execute_result"
    }
   ],
   "source": [
    "# Check the data types\n",
    "titanic.dtypes"
   ]
  },
  {
   "cell_type": "markdown",
   "metadata": {},
   "source": [
    "### Variables Description\n",
    "- PassengerId -- is the ordinal ID for each passenger.\n",
    "- Survived -- 1 if the passenger survived, and 0 if they did not.\n",
    "- Pclass -- the passenger's cabin class from 1 to 3 where 1 was the highest class.\n",
    "- Name -- full name of the passenger.\n",
    "- Sex -- the passenger's gender, male and female.\n",
    "- Age -- The passenger's age, in integer format.\n",
    "- SibSp -- ordinal integer describing the number of siblings or spouses travelling with each passenger.\n",
    "- Parch -- ordinal integer describing the number of parents or children travelling with each passenger.\n",
    "- Ticket -- the ticket number, in string format.\n",
    "- Fare -- the amount the passenger paid for their ticket.\n",
    "- Cabin -- the cabin number of each passenger.\n",
    "- Embarked -- Either C, Q, or S, to indicate which port the passenger boarded the ship from.\n",
    "- It shows that we have two floating point variables (Age and Fare), five string features (Name, Sex, Embarked, Ticket, Cabin), and five integer features (PassengerId, Survived, Pclass, SibSp, Parch).\n",
    "- From the first 10 rows of the table, we can see many of the columns, such as Age and Cabin, having missing values(NaN). Thus, we need to deal with the missing data before conducting analysis."
   ]
  },
  {
   "cell_type": "markdown",
   "metadata": {},
   "source": [
    "###  Missing Values"
   ]
  },
  {
   "cell_type": "code",
   "execution_count": 5,
   "metadata": {
    "collapsed": false
   },
   "outputs": [
    {
     "name": "stdout",
     "output_type": "stream",
     "text": [
      "PassengerId      0\n",
      "Survived         0\n",
      "Pclass           0\n",
      "Name             0\n",
      "Sex              0\n",
      "Age            177\n",
      "SibSp            0\n",
      "Parch            0\n",
      "Ticket           0\n",
      "Fare             0\n",
      "Cabin          687\n",
      "Embarked         2\n",
      "dtype: int64\n"
     ]
    }
   ],
   "source": [
    "# check the count of missing values by columns\n",
    "print(titanic.isnull().sum())"
   ]
  },
  {
   "cell_type": "code",
   "execution_count": 6,
   "metadata": {
    "collapsed": false
   },
   "outputs": [
    {
     "data": {
      "text/plain": [
       "891"
      ]
     },
     "execution_count": 6,
     "metadata": {},
     "output_type": "execute_result"
    }
   ],
   "source": [
    "len(titanic['Age'])"
   ]
  },
  {
   "cell_type": "markdown",
   "metadata": {},
   "source": [
    "#### Observation\n",
    "\n",
    "- Most Cabin numbers are missing, together with 177 Age values and 2 Embarked values.\n",
    "\n",
    "\n",
    "- The Cabin misses lots of data (687/891), this variable makes no sense in any analysis so I ignore this feature. The Age misses some but acceptable. I prefer to replace missing values with the mean or median. The Embarked merely has two missing values, so I choose to simply ignore those two in the following analysis.\n"
   ]
  },
  {
   "cell_type": "code",
   "execution_count": 7,
   "metadata": {
    "collapsed": false
   },
   "outputs": [
    {
     "data": {
      "text/plain": [
       "<matplotlib.text.Text at 0x11b2b7eb8>"
      ]
     },
     "execution_count": 7,
     "metadata": {},
     "output_type": "execute_result"
    },
    {
     "data": {
      "image/png": "[encoded data removed]",
      "text/plain": [
       "<matplotlib.figure.Figure at 0x11b1c59b0>"
      ]
     },
     "metadata": {},
     "output_type": "display_data"
    }
   ],
   "source": [
    "plt.hist(titanic['Age'].dropna())\n",
    "plt.xlabel('Age')\n",
    "plt.ylabel('Frequency')\n",
    "plt.title('Distribution of Age')"
   ]
  },
  {
   "cell_type": "code",
   "execution_count": 8,
   "metadata": {
    "collapsed": false
   },
   "outputs": [
    {
     "data": {
      "text/plain": [
       "<matplotlib.text.Text at 0x11e69c5c0>"
      ]
     },
     "execution_count": 8,
     "metadata": {},
     "output_type": "execute_result"
    },
    {
     "data": {
      "image/png": "[encoded data removed]",
      "text/plain": [
       "<matplotlib.figure.Figure at 0x11b1c5e10>"
      ]
     },
     "metadata": {},
     "output_type": "display_data"
    }
   ],
   "source": [
    "# replace the NaN with mean\n",
    "\n",
    "titanic['Age'] = titanic['Age'].fillna(titanic['Age'].mean())\n",
    "plt.hist(titanic['Age'])\n",
    "plt.xlabel('Age')\n",
    "plt.ylabel('Frequency')\n",
    "plt.title('Distribution of Age -- filling Nan with mean')"
   ]
  },
  {
   "cell_type": "markdown",
   "metadata": {},
   "source": [
    "#### Observation\n",
    "\n",
    "- Comparing the age distribution before and after artificially replacing the missing values with mean, it's obvious that the distribution of age was impacted greatly. This will be a potential threat to make a more accurate inference. Thus, I choose to remove those missing values in age rather than filling in with mean or median when it comes to using the age variable. \n",
    "\n"
   ]
  },
  {
   "cell_type": "markdown",
   "metadata": {},
   "source": [
    "## 3. Analyze Survival Rate by Visualizing Data"
   ]
  },
  {
   "cell_type": "markdown",
   "metadata": {},
   "source": [
    "### Filtering effective independent variables\n",
    "\n",
    "The Titanic dataset has 12 columns; the 'Survived' is dependent variable while others could be treated as an independent variable. However, some of the independent variables are not effective in analyzing the survival rate. \n",
    "\n",
    "\n",
    "- \tCabin feature may be dropped as it is highly incomplete or contains many null values as I discussed in the “Missing Values” part. \n",
    "\n",
    "\n",
    "-\tTicket feature may be dropped from our analysis as it only an identified number, which may not be a correlation between Ticket and survival.\n",
    "\n",
    "\n",
    "-\tSimilarly, PassengerId may be dropped from training dataset as it’s an ordinal index thus does not contribute to survival.\n",
    "\n",
    "\n",
    "-\tName feature is relatively non-standard, may not contribute directly to survival, so maybe dropped.\n",
    "\n",
    "\n",
    "Thus, in the following analysis, I will only focus on other seven independent variables: Pclass, Sex, Age, SibSp, Parch, Fare, Embarked.\n",
    "\n"
   ]
  },
  {
   "cell_type": "markdown",
   "metadata": {},
   "source": [
    "### (1) Overall Survival Rate"
   ]
  },
  {
   "cell_type": "code",
   "execution_count": 9,
   "metadata": {
    "collapsed": false
   },
   "outputs": [
    {
     "name": "stdout",
     "output_type": "stream",
     "text": [
      "The Overall Survived Rate is: \n",
      "0.383838383838\n"
     ]
    }
   ],
   "source": [
    "titanic = pd.read_csv('titanic-data.csv')\n",
    "survived_rate=float(titanic['Survived'].sum())/titanic['Survived'].count()  \n",
    "# add the float() to see the exact number\n",
    "\n",
    "print('The Overall Survived Rate is: ')\n",
    "print(survived_rate)"
   ]
  },
  {
   "cell_type": "code",
   "execution_count": 10,
   "metadata": {
    "collapsed": false
   },
   "outputs": [],
   "source": [
    "# define the function of showing the survived_rate groupby one one varaible \n",
    "\n",
    "def survived_rate(x):\n",
    "    rate = (titanic.groupby([x]).sum()/titanic.groupby([x]).count())['Survived']\n",
    "    return rate  "
   ]
  },
  {
   "cell_type": "markdown",
   "metadata": {},
   "source": [
    "### (2) Survival by Pclass and Sex"
   ]
  },
  {
   "cell_type": "code",
   "execution_count": 12,
   "metadata": {
    "collapsed": false
   },
   "outputs": [
    {
     "name": "stdout",
     "output_type": "stream",
     "text": [
      "Sex\n",
      "female    0.742038\n",
      "male      0.188908\n",
      "Name: Survived, dtype: float64\n",
      "Pclass\n",
      "1    0.629630\n",
      "2    0.472826\n",
      "3    0.242363\n",
      "Name: Survived, dtype: float64\n"
     ]
    },
    {
     "data": {
      "text/plain": [
       "<matplotlib.text.Text at 0x11e812ef0>"
      ]
     },
     "execution_count": 12,
     "metadata": {},
     "output_type": "execute_result"
    },
    {
     "data": {
      "image/png": "[encoded data removed]",
      "text/plain": [
       "<matplotlib.figure.Figure at 0x11e8d73c8>"
      ]
     },
     "metadata": {},
     "output_type": "display_data"
    }
   ],
   "source": [
    "Sex_survived_rate = survived_rate('Sex')\n",
    "print(Sex_survived_rate)\n",
    "Pclass_survived_rate = survived_rate('Pclass')\n",
    "print(Pclass_survived_rate)\n",
    "\n",
    "sns.barplot(x=\"Pclass\", y=\"Survived\",hue='Sex', data=titanic,ci=None)\n",
    "plt.title('Survival by Pclass and Gender')\n",
    "plt.ylabel('Prob. Survival')\n"
   ]
  },
  {
   "cell_type": "markdown",
   "metadata": {},
   "source": [
    "#### Observation:\n",
    "\n",
    "- The correlation between the Sex and Survival Rate is very high, which indicated that female in Titanic were obviously more likely to survive. \n",
    "\n",
    "- The graph show a falling survival rate along with the decrease of Pclass level. That means upper-class passengers (Pclass=1) got the best chance to survive in a disaster and so forth the middle-class passengers (Pclass=2) had good survival rate. On the contrary, the lower-class passengers (Pclass=3) has a low chance to survive. \n",
    "\n",
    "\n"
   ]
  },
  {
   "cell_type": "markdown",
   "metadata": {},
   "source": [
    "### (4) Survival by Age Groups"
   ]
  },
  {
   "cell_type": "code",
   "execution_count": 17,
   "metadata": {
    "collapsed": false
   },
   "outputs": [
    {
     "data": {
      "text/plain": [
       "<matplotlib.text.Text at 0x11ef0ffd0>"
      ]
     },
     "execution_count": 17,
     "metadata": {},
     "output_type": "execute_result"
    },
    {
     "data": {
      "image/png": "[encoded data removed]",
      "text/plain": [
       "<matplotlib.figure.Figure at 0x11ede1048>"
      ]
     },
     "metadata": {},
     "output_type": "display_data"
    }
   ],
   "source": [
    "df = pd.read_csv('titanic-data.csv')\n",
    "df = df.loc[df['Age'].notnull()]\n",
    "\n",
    "# use pd.cut() to create the age groups\n",
    "df['AgeGroup'] = pd.cut(df['Age'], bins=[0,14,50,90], labels=['Childs','Adults','Seniors'])\n",
    "\n",
    "sns.barplot(x=\"AgeGroup\", y=\"Survived\", data=df,ci=None)\n",
    "plt.title('Survival by Age Group')"
   ]
  },
  {
   "cell_type": "code",
   "execution_count": 39,
   "metadata": {
    "collapsed": false
   },
   "outputs": [
    {
     "data": {
      "text/plain": [
       "<matplotlib.text.Text at 0x12097a470>"
      ]
     },
     "execution_count": 39,
     "metadata": {},
     "output_type": "execute_result"
    },
    {
     "data": {
      "image/png": "[encoded data removed]",
      "text/plain": [
       "<matplotlib.figure.Figure at 0x120f01390>"
      ]
     },
     "metadata": {},
     "output_type": "display_data"
    }
   ],
   "source": [
    "df = pd.read_csv('titanic-data.csv',sep=\",\")\n",
    "df = df.loc[df['Age'].notnull()]\n",
    "\n",
    "df['AgeGroup'] = pd.cut(df['Age'], bins=[0,14,50,90], labels=['Childs','Adults','Seniors'])\n",
    "\n",
    "fig = plt.figure()\n",
    "\n",
    "ax1 = fig.add_subplot(2,1,1) \n",
    "ax2 = fig.add_subplot(2,1,2)\n",
    "\n",
    "data = df.groupby(['AgeGroup','Sex'],as_index=False).mean().loc[:,['AgeGroup','Sex','Survived']]\n",
    "g = sns.barplot(x=\"AgeGroup\", y=\"Survived\", hue=\"Sex\", data=data,ax=ax1)\n",
    "ax1.set_title('Survival by Age and Sex')\n",
    "ax1.set_ylabel('Survival rate')\n",
    "data2 = df.groupby(['AgeGroup'],as_index=False).mean().loc[:,['AgeGroup','Survived']]\n",
    "h = sns.barplot(x=\"AgeGroup\",y='Survived', data=data2,ax=ax2)\n",
    "ax2.set_ylabel('Survival rate')"
   ]
  },
  {
   "cell_type": "markdown",
   "metadata": {},
   "source": [
    "### (5) SibSp & Parch V.S. Survival Rate"
   ]
  },
  {
   "cell_type": "code",
   "execution_count": 40,
   "metadata": {
    "collapsed": false
   },
   "outputs": [
    {
     "data": {
      "text/plain": [
       "<matplotlib.text.Text at 0x120b8fb38>"
      ]
     },
     "execution_count": 40,
     "metadata": {},
     "output_type": "execute_result"
    },
    {
     "data": {
      "image/png": "[encoded data removed]",
      "text/plain": [
       "<matplotlib.figure.Figure at 0x120ea4a20>"
      ]
     },
     "metadata": {},
     "output_type": "display_data"
    }
   ],
   "source": [
    "# Data Visulization \n",
    "\n",
    "plt.figure(figsize=[12,10])\n",
    "plt.subplot(331)\n",
    "a1 = sns.barplot(x='SibSp', y='Survived', data=titanic)\n",
    "a1.set_xlabel('SibSp')\n",
    "a1.set_ylabel('Survival rate')\n",
    "a1.set_title('Survival Rate by SibSp')\n",
    "plt.subplot(332)\n",
    "a2 = sns.barplot('Parch', 'Survived', data=titanic)\n",
    "a2.set_xlabel('Parch')\n",
    "a2.set_ylabel('Survival rate')\n",
    "a2.set_title('Survival Rate by Parch')\n",
    "\n"
   ]
  },
  {
   "cell_type": "markdown",
   "metadata": {},
   "source": [
    "#### Observation:\n",
    "- The two charts above both indicated that with one to three relatives or family members received a higher survival rate, no matter with siblings, spouse, parents, or child. For this reason, we can add these two variables together to create a new feature named “FamilySize” to make the analysis easier to understand. \n"
   ]
  },
  {
   "cell_type": "markdown",
   "metadata": {},
   "source": [
    "### (6) Embarked V.S. Survival Rate\n",
    "- C = Cherbourg\n",
    "- Q = Queenstown\n",
    "- S = Southampton"
   ]
  },
  {
   "cell_type": "code",
   "execution_count": 19,
   "metadata": {
    "collapsed": false
   },
   "outputs": [
    {
     "name": "stdout",
     "output_type": "stream",
     "text": [
      "Embarked\n",
      "C    0.553571\n",
      "Q    0.389610\n",
      "S    0.336957\n",
      "Name: Survived, dtype: float64\n"
     ]
    },
    {
     "data": {
      "text/plain": [
       "(array([0, 1, 2]), <a list of 3 Text xticklabel objects>)"
      ]
     },
     "execution_count": 19,
     "metadata": {},
     "output_type": "execute_result"
    },
    {
     "data": {
      "image/png": "[encoded data removed]",
      "text/plain": [
       "<matplotlib.figure.Figure at 0x11031d6a0>"
      ]
     },
     "metadata": {},
     "output_type": "display_data"
    }
   ],
   "source": [
    "Embarked_Survived_rate = survived_rate('Embarked')\n",
    "print(Embarked_Survived_rate)\n",
    "Embarked_Survived_rate.plot(kind='bar')\n",
    "plt.xlabel('Port of Embarkation')\n",
    "plt.ylabel('Survival Rate')\n",
    "plt.title('Survival Rate by Embarked')\n",
    "plt.xticks(rotation=360)"
   ]
  },
  {
   "cell_type": "markdown",
   "metadata": {},
   "source": [
    "#### Observation:\n",
    "\n",
    "- It is clear that embarking at C port resulted in a higher survival rate than port Q and S. There might be a correlation with other variables, such as Pclass or Fare. I will examine that in next part.\n",
    "\n"
   ]
  },
  {
   "cell_type": "markdown",
   "metadata": {},
   "source": [
    "## 4. Correlation Among Variables"
   ]
  },
  {
   "cell_type": "code",
   "execution_count": 20,
   "metadata": {
    "collapsed": false
   },
   "outputs": [
    {
     "data": {
      "text/plain": [
       "<matplotlib.axes._subplots.AxesSubplot at 0x1110c51d0>"
      ]
     },
     "execution_count": 20,
     "metadata": {},
     "output_type": "execute_result"
    },
    {
     "data": {
      "image/png": "[encoded data removed]",
      "text/plain": [
       "<matplotlib.figure.Figure at 0x1110c54a8>"
      ]
     },
     "metadata": {},
     "output_type": "display_data"
    }
   ],
   "source": [
    "# Make a Pearson Correlation Matrix to check the dependence among variables\n",
    "\n",
    "colormap = plt.cm.viridis\n",
    "plt.figure(figsize=(10,10))\n",
    "plt.title('Pearson Correlation of Features', y=1.05, size=15)\n",
    "sns.heatmap(titanic.corr(),linewidths=0.1,vmax=1.0, square=True, cmap=colormap, linecolor='white', annot=True)"
   ]
  },
  {
   "cell_type": "markdown",
   "metadata": {},
   "source": [
    "### Observations from the Correlation Matrix\n",
    "\n",
    "The above Pearson Correlation Heatmap generates some correlation plots of the features showing how related one feature is to the next. \n",
    "\n",
    "- First, the strongest correlated features are that of Family size and Parch and SibSp, which are 0.89 and 0.78. And so on, the 0.41 between SibSp and Parch. Obviously, the Parch and SibSp together determined how big is the family size, so these two correlations are quite high. But, they’re irrelevant to my study in survival rate.\n",
    "\n",
    "\n",
    "- Second, the correlation between independent variable (Pclass) and dependent variable (Survived) is negative 0.34, which also confirmed my analysis in last part that the higher Pclass (lower-class passengers) the lower survival rate. \n",
    "\n",
    "\n",
    "- Third, there are two effective (> 0.30) correlations relates to the study of survival rate.  One is a strong negative correlation between Fare and Pclass (-0.55), another is a moderate negative correlation between Pclass and Age (-0.37). I will elaborate more on these two relationships in the following. \n",
    "\n"
   ]
  },
  {
   "cell_type": "markdown",
   "metadata": {},
   "source": [
    "#### (1) Calculate Fares by Pclass"
   ]
  },
  {
   "cell_type": "code",
   "execution_count": 21,
   "metadata": {
    "collapsed": false
   },
   "outputs": [
    {
     "data": {
      "text/plain": [
       "{1: 84.15468749999992, 2: 20.66218315217391, 3: 13.675550101832997}"
      ]
     },
     "execution_count": 21,
     "metadata": {},
     "output_type": "execute_result"
    }
   ],
   "source": [
    "passenger_classes = [1, 2, 3]\n",
    "Fares_by_Pclass = {}\n",
    "for x in passenger_classes:\n",
    "    Pclass_rows = titanic[titanic['Pclass'] == x]\n",
    "    Pclass_Fares = Pclass_rows['Fare']\n",
    "    Fares_for_Pclass = Pclass_Fares.mean()\n",
    "    Fares_by_Pclass[x] = Fares_for_Pclass\n",
    "Fares_by_Pclass"
   ]
  },
  {
   "cell_type": "code",
   "execution_count": 41,
   "metadata": {
    "collapsed": false
   },
   "outputs": [
    {
     "data": {
      "image/png": "[encoded data removed]",
      "text/plain": [
       "<matplotlib.figure.Figure at 0x120c443c8>"
      ]
     },
     "metadata": {},
     "output_type": "display_data"
    }
   ],
   "source": [
    "\n",
    "df[['Fare','Pclass']].pivot(columns='Pclass',values='Fare').plot.box()\n",
    "plt.ylim(0,200)\n",
    "plt.title('Fare versus PClass')\n",
    "plt.ylabel('Fare')\n",
    "plt.xlabel('PClass')\n",
    "plt.show()"
   ]
  },
  {
   "cell_type": "markdown",
   "metadata": {},
   "source": [
    "- The calculation shows that the Fares by Pclass 1 is relative high than others, which confirmed the strong negative correlation between Fares and Pclass (0.55). It is clear that higher passenger class means higher fares. \n",
    " "
   ]
  },
  {
   "cell_type": "markdown",
   "metadata": {},
   "source": [
    "#### (2) Calculate average Age by Pclass"
   ]
  },
  {
   "cell_type": "code",
   "execution_count": 22,
   "metadata": {
    "collapsed": false
   },
   "outputs": [
    {
     "data": {
      "text/html": [
       "<div>\n",
       "<table border=\"1\" class=\"dataframe\">\n",
       "  <thead>\n",
       "    <tr style=\"text-align: right;\">\n",
       "      <th></th>\n",
       "      <th>Age</th>\n",
       "    </tr>\n",
       "    <tr>\n",
       "      <th>Pclass</th>\n",
       "      <th></th>\n",
       "    </tr>\n",
       "  </thead>\n",
       "  <tbody>\n",
       "    <tr>\n",
       "      <th>1</th>\n",
       "      <td>38.233441</td>\n",
       "    </tr>\n",
       "    <tr>\n",
       "      <th>2</th>\n",
       "      <td>29.877630</td>\n",
       "    </tr>\n",
       "    <tr>\n",
       "      <th>3</th>\n",
       "      <td>25.140620</td>\n",
       "    </tr>\n",
       "  </tbody>\n",
       "</table>\n",
       "</div>"
      ],
      "text/plain": [
       "              Age\n",
       "Pclass           \n",
       "1       38.233441\n",
       "2       29.877630\n",
       "3       25.140620"
      ]
     },
     "execution_count": 22,
     "metadata": {},
     "output_type": "execute_result"
    }
   ],
   "source": [
    "Average_Age_by_Pclass = titanic.pivot_table(index='Pclass',values=['Age'],aggfunc=np.mean)\n",
    "Average_Age_by_Pclass"
   ]
  },
  {
   "cell_type": "markdown",
   "metadata": {},
   "source": [
    "- The moderate negative correlation between Pclass and Age (0.37) also confirmed in the calculation above. The higher passenger class, the higher average passenger age. It’s also obvious that older people generally have higher socio-economic status. \n",
    " "
   ]
  },
  {
   "cell_type": "markdown",
   "metadata": {},
   "source": [
    "#### (3) Calculate Fares by Embarked "
   ]
  },
  {
   "cell_type": "code",
   "execution_count": 23,
   "metadata": {
    "collapsed": false
   },
   "outputs": [
    {
     "data": {
      "text/html": [
       "<div>\n",
       "<table border=\"1\" class=\"dataframe\">\n",
       "  <thead>\n",
       "    <tr style=\"text-align: right;\">\n",
       "      <th></th>\n",
       "      <th>Fare</th>\n",
       "    </tr>\n",
       "    <tr>\n",
       "      <th>Embarked</th>\n",
       "      <th></th>\n",
       "    </tr>\n",
       "  </thead>\n",
       "  <tbody>\n",
       "    <tr>\n",
       "      <th>C</th>\n",
       "      <td>59.954144</td>\n",
       "    </tr>\n",
       "    <tr>\n",
       "      <th>Q</th>\n",
       "      <td>13.276030</td>\n",
       "    </tr>\n",
       "    <tr>\n",
       "      <th>S</th>\n",
       "      <td>27.079812</td>\n",
       "    </tr>\n",
       "  </tbody>\n",
       "</table>\n",
       "</div>"
      ],
      "text/plain": [
       "               Fare\n",
       "Embarked           \n",
       "C         59.954144\n",
       "Q         13.276030\n",
       "S         27.079812"
      ]
     },
     "execution_count": 23,
     "metadata": {},
     "output_type": "execute_result"
    }
   ],
   "source": [
    "Average_Fares_by_Embarked = titanic.pivot_table(index='Embarked',values=['Fare'],aggfunc=np.mean)\n",
    "Average_Fares_by_Embarked"
   ]
  },
  {
   "cell_type": "markdown",
   "metadata": {},
   "source": [
    "- There’s another correlation between two independent variables: Fares and Embarked ports. It’s unable to exhibit on the Pearson Correlation Heatmap because the datatype of Embarked is a string. Through the calculation, we can see that passengers boarded from Embarked Port C paid the highest fares in their tickets. \n",
    "\n",
    "\n",
    "\n",
    "- Tracing back to the analysis of Embarked and Survival rate in part 3, embarking at C port resulted in a higher survival rate than port Q and S, the most plausible explanation is that the majority rich people who paid highest fares boarded on Port C. Therefore, three independent variables – Pclass, Fares, Embarked – are correlative dependence. \n",
    "\n"
   ]
  },
  {
   "cell_type": "markdown",
   "metadata": {
    "collapsed": true
   },
   "source": [
    "## 5. Conclusion"
   ]
  },
  {
   "cell_type": "markdown",
   "metadata": {},
   "source": [
    "### What factors made people more likely to survive? \n",
    " \n",
    " \n",
    "#### Sex. \n",
    "It’s obvious that the Sex is the most prominent feature in determining passengers’ chance of survival. The data confirm the initial assumptions that women had a better chance to survive in this disaster.\n",
    " \n",
    "#### Pclass. \n",
    "The economic status of passengers is also a valid feature lead to higher survival rate. Upper-class passengers (Pclass=1) got the best chance to survive in a disaster while the lower-class passengers (Pclass=3) has a low chance to survive.\n",
    "\n",
    "It’s worth noting that three independent variables - Pclass, Fares, embarked - were correlative dependence and all made impact on the survival rate. Since those variables all stands for a certain economic status, I pick the most representative feature: Pclass to explain the story simply and concisely. \n",
    "\n",
    "#### Age. \n",
    "Age is also a feature that makes an impact on survival rate but not in a linear relation.  The children had a significant high survival rate at the same time largest number of 15-25-year-olds did not survive.\n",
    " \n",
    "#### Family-size. \n",
    "Traveling with a mid-size family group had a good chance to survive. Having 1-2 family members on board, in particular, SibSp = 1-2 or Parch = 1-3 got a better survival chance than being alone or having a large family."
   ]
  },
  {
   "cell_type": "markdown",
   "metadata": {},
   "source": [
    "### Limitations of the study\n",
    "\n",
    "- Correlation doesn't imply causation. The conclusions merely proved that Sex, Pclass, Age, and family size were correlated the survival rate but none of them was the cause of high/low survival rate.\n",
    "\n",
    "\n",
    "- The difference between the sample and the population. This Titanic dataset includes only 891 passenger information of the total 2224 passengers and crews and we don't know what percentage of the crew members in the 891 rows, which is a potential threat to the current conclusion. Also, we still don't know the how the sample was chosen from the population. Is there any bias in selecting sample passengers?\n",
    "\n",
    "\n",
    "- The method I handling missing values in Age is simply drop them, which may be not a good way to handle missing data. \n"
   ]
  }
 ],
 "metadata": {
  "kernelspec": {
   "display_name": "Python 3",
   "language": "python",
   "name": "python3"
  },
  "language_info": {
   "codemirror_mode": {
    "name": "ipython",
    "version": 3
   },
   "file_extension": ".py",
   "mimetype": "text/x-python",
   "name": "python",
   "nbconvert_exporter": "python",
   "pygments_lexer": "ipython3",
   "version": "3.6.0"
  }
 },
 "nbformat": 4,
 "nbformat_minor": 2
}
